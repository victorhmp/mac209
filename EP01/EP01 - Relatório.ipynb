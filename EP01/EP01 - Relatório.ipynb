{
 "cells": [
  {
   "cell_type": "markdown",
   "metadata": {},
   "source": [
    "# Relatório EP01 - MAC0209"
   ]
  },
  {
   "cell_type": "markdown",
   "metadata": {
    "collapsed": true
   },
   "source": [
    "## Introdução\n",
    "<p style='text-align: justify;'>Neste primeiro EP foi realizado um estudo sobre o movimento uniforme e o movimento uniformemente acelerado.\n",
    "O estudo consiste da coleta de dados através de um experimento simulando os dois tipos de movimento, a análise dos dados obtidos e uma simulação para comparação dos dados.</p>\n",
    "<p style='text-align: justify;'>O movimento uniforme, apesar de sua simplicidade, possibilita uma série de análises físicas. Ele é definido pelo movimento de um objeto que viaja com velocidade constante cobrindo distâncias iguais em intervalos de tempo iguais. Já o movimento uniformemente acelerado consiste do movimento de um objeto com velocidade que varia de maneira constante, ou seja, que possui aceleração constante.</p>\n",
    "<p style='text-align: justify; '> Assim, com as análises dos movimentos citados é possível a criação de algoritmos que simulem os fenômenos físicos estudados. Ele permite que haja uma comparação de valores teóricos com experimentais e simulação de um movimento com distâncias maiores e de mesmo caráter daqueles que foram realizados no experimento.</p>\n",
    "<p style='text-align: justify;'>A simulação associada à realização do experimento possíbilitará o levantamento de diversas questões a serem discutidas, algumas delas: validade do experimento, aproximação de dados simulados a dados experimentais, aplicação da teoria do movimento unidimensional à realidade, influência do procedimento experimental para a coleta de dados, entre outros.</p>"
   ]
  },
  {
   "cell_type": "markdown",
   "metadata": {},
   "source": [
    "## Procedimento Experimental\n",
    "<p style='text-align: justify;'>Para a realização do experimento foram utilizados os seguintes materiais: lã, trena, cronômetros, celulares, camera e giz. Inicialmente mediu-se um pedaço de 5 metros de lã para que fosse possível a marcação no chão das distâncias, sendo que houve outra marcação, esta feita a cada metro dentre os 30 metros da travessia, para que os passos de um metro pudessem ser realizados com melhor precisão. Assim, durante o experimento, havia um participante realizando as gravações, um que pudesse coordenar a travessia, um para realizar a travessia e dois para a medição dos tempos na posição dos sensores.</p>\n",
    "<p style='text-align: justify;'>Quando o movimento era uniforme, a pessoa que realizava a travessia, a fazia com base no ritmo de um metrônomo de frequência constante, assim para cada \"batida\" do metrônomo, um passo era dado. Para o movimento uniformemente variado, utilizou-se um metrônomo ascendente, ou seja, aquele que pudesse gerar \"batidas\" em um ritmo com frequências que aceleravam.</p>\n",
    "<p style='text-align: justify;'>Quando a medição era feita com os cronômetros pareados, as duas pessoas que ficavam com a captação dos tempos se deslocavam à frente da pessoa que realizava a travessia, repousando para uma medição precisa nos pontos de sensores para a medição. Para a medição com cronômetros intercalados, uma pessoa ficava à esquerda da passarela de travessia e captava na posições dos sensores de 5m, 15m e 25m, enquando que a outra pessoa à direita, coletava os valores na posição dos sensores de 10m, 20m e 30m.</p>\n",
    "<p style='text-align: justify;'>É importante ressaltar que a pessoa que realizava a travessia levava consigo um dispositivo celular executando a aplicação <i>Physics ToolBox</i> ativada 5 segundos antes do início da travessia e desativada 5 segundos após o término da travessia, quando a pessoa que o porta se encontrasse em repouso.</p>"
   ]
  },
  {
   "cell_type": "markdown",
   "metadata": {},
   "source": [
    "## Algoritmo\n",
    "\n",
    "**|FALAR SOBRE O ALGORITMO PRINCIPAL|**\n",
    "\n",
    "\n",
    "### plotPT.py\n",
    "<p style='text-align: justify;'>O <i>script</i> de plotPT.py tem como objetivo plotar, principalmente, as imagens dos arquivos csv obtidos com a utilização do <i>Physics ToolBox</i>. Assim, o programa recebe como entrada o caminho do arquivo .csv com os dados a serem plotados, o título do gráfico resultante e o nome do arquivo de imagem contendo o gráfico a ser salvo. Um exemplo de execução é: python plotPT.py PhysicsToolBoxData/MUKaique1.csv KaiqueMU KaiqueMUImage, que irá plotar o gráfico contido em PhysicsToolBoxData/MUKaique1.csv, gerando o gráfico com o título KaiqueMU e uma imagem KaiqueMUImage.png.</p>\n",
    "\n",
    "### StdAudio.java\n",
    "<p style='text-align: justify;'>O programa StdAudio.java é uma reciclagem do algoritmo de uma disciplina da instituição Princeton(https://introcs.cs.princeton.edu/java/15inout/StdAudio.java.html), utilizado para a criação do metrônomo ascendente para a realização do movimento uniformemente variado. Os dados utilizados no programa foram arbitrários, basicamente escolhidos para uma melhor adequação ao experimento.</p>\n"
   ]
  },
  {
   "cell_type": "markdown",
   "metadata": {},
   "source": [
    "## Verificação do Algoritmo"
   ]
  },
  {
   "cell_type": "markdown",
   "metadata": {},
   "source": [
    "## Dados\n",
    "\n",
    "### Dados Coletados no Experimento\n",
    "\n",
    "\n",
    "| Movimento Uniforme (MU) |         |        |         |         |  |                          |       |       |        |         |         |         |         | \n",
    "|-------------------------|---------|--------|---------|---------|--|--------------------------|-------|-------|--------|---------|---------|---------|---------| \n",
    "| Cronômetros Pareados    |         |        |         |         |  | Cronômetros Intercalados |       |       |        |         |         |         |         | \n",
    "| Lucas 1                 | Ponto   | 0m-10m | 10m-20m | 20m-30m |  | Lucas                    | Ponto | 0m-5m | 5m-10m | 10m-15m | 15m-20m | 20m-25m | 25m-30m | \n",
    "|                         | Crono 1 | 6      | 6,06    | 6,06    |  |                          | Tempo | 2,3   | 2,55   | 2,93    | 2,8     | 2,77    | 2,72    | \n",
    "|                         | Crono 2 | 6,05   | 6,6     | 6,61    |  | Ricardo                  | Ponto | 0m-5m | 5m-10m | 10m-15m | 15m-20m | 20m-25m | 25m-30m | \n",
    "|                         | Média   | 6,025  | 6,33    | 6,335   |  |                          | Tempo | 3,03  | 2,79   | 2,71    | 2,65    | 2,75    | 2,76    | \n",
    "| Lucas 2                 | Ponto   | 0m-10m | 10m-20m | 20m-30m |  | Kaique                   | Ponto | 0m-5m | 5m-10m | 10m-15m | 15m-20m | 20m-25m | 25m-30m | \n",
    "|                         | Crono 1 | 5,5    | 6       | 5,9     |  |                          | Tempo | 3,1   | 2,72   | 2,78    | 2,58    | 2,82    | 2,69    | \n",
    "|                         | Crono 2 | 5,59   | 5,89    | 6,03    |  |                          |       |       |        |         |         |         |         | \n",
    "|                         | Média   | 5,545  | 5,945   | 5,965   |  |                          |       |       |        |         |         |         |         | \n",
    "| Ricardo 1               | Ponto   | 0m-10m | 10m-20m | 20m-30m |  |                          |       |       |        |         |         |         |         | \n",
    "|                         | Crono 1 | 5      | 5       | 5,3     |  |                          |       |       |        |         |         |         |         | \n",
    "|                         | Crono 2 | 5,05   | 5,08    | 5,27    |  |                          |       |       |        |         |         |         |         | \n",
    "|                         | Média   | 5,025  | 5,04    | 5,285   |  |                          |       |       |        |         |         |         |         | \n",
    "| Ricardo 2               | Ponto   | 0m-10m | 10m-20m | 20m-30m |  |                          |       |       |        |         |         |         |         | \n",
    "|                         | Crono 1 | 5,9    | 5,4     | 5,6     |  |                          |       |       |        |         |         |         |         | \n",
    "|                         | Crono 2 | 5,64   | 5,45    | 5,27    |  |                          |       |       |        |         |         |         |         | \n",
    "|                         | Média   | 5,77   | 5,04    | 5,285   |  |                          |       |       |        |         |         |         |         | \n",
    "| Kaique 1                | Ponto   | 0m-10m | 10m-20m | 20m-30m |  |                          |       |       |        |         |         |         |         | \n",
    "|                         | Crono 1 | 5      | 5,5     | 5,4     |  |                          |       |       |        |         |         |         |         | \n",
    "|                         | Crono 2 | 5,18   | 5,34    | 5,53    |  |                          |       |       |        |         |         |         |         | \n",
    "|                         | Média   | 5,09   | 5,42    | 5,465   |  |                          |       |       |        |         |         |         |         | \n",
    "| Kaique 2                | Ponto   | 0m-10m | 10m-20m | 20m-30m |  |                          |       |       |        |         |         |         |         | \n",
    "|                         | Crono 1 | 5      | 5,4     | 5,4     |  |                          |       |       |        |         |         |         |         | \n",
    "|                         | Crono 2 | 5,19   | 5,33    | 5,41    |  |                          |       |       |        |         |         |         |         | \n",
    "|                         | Média   | 5,095  | 5,365   | 5,405   |  |                          |       |       |        |         |         |         |         | \n",
    "\n",
    "\n",
    "| Movimento Uniformemente Variado (MUV) |         |        |         |         |  |  |                          |       |         |          |           |           |           |           | \n",
    "|---------------------------------------|---------|--------|---------|---------|--|--|--------------------------|-------|---------|----------|-----------|-----------|-----------|-----------| \n",
    "| Cronômetros Pareados                  |         |        |         |         |  |  | Cronômetros Intercalados |       |         |          |           |           |           |           | \n",
    "| Victor 1                              | Ponto   | 0m-10m | 10m-20m | 20m-30m |  |  | Victor                   | Ponto | 0m a 5m | 5m a 10m | 10m a 15m | 15m a 20m | 20m a 25m | 25m a 30m | \n",
    "|                                       | Crono 1 | 11,53  | 6,41    | 3,59    |  |  |                          | Tempo | 5,51    | 5,33     | 3,64      | 2,36      | 2,28      | 1,86      | \n",
    "|                                       | Crono 2 | 11,67  | 6,01    | 3,73    |  |  | Yurick                   | Ponto | 0m a 5m | 5m a 10m | 10m a 15m | 15m a 20m | 20m a 25m | 25m a 30m | \n",
    "|                                       | Média   | 11,6   | 6,21    | 3,66    |  |  |                          | Tempo | 6,14    | 5,09     | 4         | 2,71      | 2,3       | 0,99      | \n",
    "| Victor 2                              | Ponto   | 0m-10m | 10m-20m | 20m-30m |  |  | Kaique                   | Ponto | 0m a 5m | 5m a 10m | 10m a 15m | 15m a 20m | 20m a 25m | 25m a 30m | \n",
    "|                                       | Crono 1 | 11,03  | 6,76    | 4,14    |  |  |                          | Tempo | 6,43    | 5,96     | 3,99      | 2,64      | 2,12      | 1,68      | \n",
    "|                                       | Crono 2 | 10,81  | 6,88    | 4,25    |  |  |                          |       |         |          |           |           |           |           | \n",
    "|                                       | Média   | 10,92  | 6,82    | 4,195   |  |  | Victor                   | Ponto | 0m a 5m | 0m a 10m | 5m a 15m  | 10m a 20m | 15m a 25m | 20m a 30m | \n",
    "| Yurick 1                              | Ponto   | 0m-10m | 10m-20m | 20m-30m |  |  |                          | Tempo | 5,51    | 10,84    | 8,97      | 6         | 4,64      | 4,14      | \n",
    "|                                       | Crono 1 | 9,94   | 6,46    | 4,29    |  |  | Yurick                   | Ponto | 0m a 5m | 0m a 10m | 5m a 15m  | 10m a 20m | 15m a 25m | 20m a 30m | \n",
    "|                                       | Crono 2 | 11,41  | 6,7     | 4,06    |  |  |                          | Tempo | 6,14    | 11,23    | 9,09      | 6,71      | 5,01      | 3,29      | \n",
    "|                                       | Média   | 10,675 | 6,58    | 4,175   |  |  | Kaique                   | Ponto | 0m a 5m | 0m a 10m | 5m a 15m  | 10m a 20m | 15m a 25m | 20m a 30m | \n",
    "| Yurick 2                              | Ponto   | 0m-10m | 10m-20m | 20m-30m |  |  |                          | Tempo | 6,43    | 12,39    | 9,95      | 6,63      | 4,76      | 3,8       | \n",
    "|                                       | Crono 1 | 11,52  | 6,93    | 3,15    |  |  |                          |       |         |          |           |           |           |           | \n",
    "|                                       | Crono 2 | 11,23  | 6,99    | 3,73    |  |  |                          |       |         |          |           |           |           |           | \n",
    "|                                       | Média   | 11,375 | 6,96    | 3,44    |  |  |                          |       |         |          |           |           |           |           | \n",
    "| Kaique 1                              | Ponto   | 0m-10m | 10m-20m | 20m-30m |  |  |                          |       |         |          |           |           |           |           | \n",
    "|                                       | Crono 1 | 11,6   | 5,68    | 3,15    |  |  |                          |       |         |          |           |           |           |           | \n",
    "|                                       | Crono 2 | 11,76  | 5,8     | 2,65    |  |  |                          |       |         |          |           |           |           |           | \n",
    "|                                       | Média   | 11,68  | 5,74    | 2,9     |  |  |                          |       |         |          |           |           |           |           | \n",
    "| Kaique 2                              | Ponto   | 0m-10m | 10m-20m | 20m-30m |  |  |                          |       |         |          |           |           |           |           | \n",
    "|                                       | Crono 1 | 10,64  | 5,04    | 3,02    |  |  |                          |       |         |          |           |           |           |           | \n",
    "|                                       | Crono 2 | 10,68  | 5,12    | 2,94    |  |  |                          |       |         |          |           |           |           |           | \n",
    "|                                       | Média   | 10,66  | 5,08    | 2,98    |  |  |                          |       |         |          |           |           |           |           | \n",
    "\n",
    "\n",
    "\n",
    "### <i>Physics ToolBox Sensor</i>\n",
    "<p style='text-align: justify;'>Para melhor compreensão dos movimentos realizados e resultados obtidos durante o experimento, foram plotados gráficos a partir das informações coletadas com o uso do sensor Physics ToolBox Suite. Todos os gráficos com os dados de cada travessia estão localizados no diretório GraficosAceleracao, eles podem ser gerados utilizando o algoritmo plotPT.py. Os arquivos gerados pelo próprio <i>Physics ToolBox</i> (.csv) estão localizados no diretório PhysicsToolBoxData, com nomes intuitivos, por exemplo, MUKaique1 corresponde à primeira travessia do participante Kaique realizando o movimento uniforme com os cronômetros pareados; MUKaiqueAlternado1 corresponde à primeira travessia do participante realizando o movimento uniforme com os cronômetros intercalados.</p>\n",
    "<p>\n",
    "    <img align=\"left\" src=\"GraficosAceleracao/MULucas1.png\" width=\"450\" height=\"450\">\n",
    "    <img align=\"rigth\" src=\"GraficosAceleracao/MUKojo2.png\" width=\"450\" height=\"450\">\n",
    "</p>\n",
    "<p>\n",
    "    <img align=\"left\" src=\"GraficosAceleracao/MUKaiqueAlternado3.png\" width=\"450\" height=\"450\">\n",
    "    <img align=\"rigth\" src=\"GraficosAceleracao/MUKojoAlternado2.png\" width=\"450\" height=\"450\">\n",
    "</p>\n",
    "<p>\n",
    "    <img align=\"left\" src=\"GraficosAceleracao/MUVYurick2.png\" width=\"450\" height=\"450\">\n",
    "    <img align=\"rigth\" src=\"GraficosAceleracao/MUVKaique1.png\" width=\"450\" height=\"450\">\n",
    "</p>\n",
    "<p>\n",
    "    <img align=\"left\" src=\"GraficosAceleracao/MUVYurickAlternado.png\" width=\"450\" height=\"450\">\n",
    "    <img align=\"rigth\" src=\"GraficosAceleracao/MUVVictorAlternado.png\" width=\"450\" height=\"450\">\n",
    "</p>"
   ]
  },
  {
   "cell_type": "markdown",
   "metadata": {
    "collapsed": true
   },
   "source": [
    "## Análise"
   ]
  },
  {
   "cell_type": "markdown",
   "metadata": {
    "collapsed": true
   },
   "source": [
    "## Interpretação"
   ]
  },
  {
   "cell_type": "markdown",
   "metadata": {},
   "source": [
    "## Conclusão"
   ]
  },
  {
   "cell_type": "markdown",
   "metadata": {},
   "source": []
  },
  {
   "cell_type": "code",
   "execution_count": null,
   "metadata": {
    "collapsed": true
   },
   "outputs": [],
   "source": []
  },
  {
   "cell_type": "code",
   "execution_count": null,
   "metadata": {
    "collapsed": true
   },
   "outputs": [],
   "source": []
  },
  {
   "cell_type": "code",
   "execution_count": null,
   "metadata": {
    "collapsed": true
   },
   "outputs": [],
   "source": []
  }
 ],
 "metadata": {
  "kernelspec": {
   "display_name": "Python 3",
   "language": "python",
   "name": "python3"
  },
  "language_info": {
   "codemirror_mode": {
    "name": "ipython",
    "version": 3
   },
   "file_extension": ".py",
   "mimetype": "text/x-python",
   "name": "python",
   "nbconvert_exporter": "python",
   "pygments_lexer": "ipython3",
   "version": "3.6.4"
  }
 },
 "nbformat": 4,
 "nbformat_minor": 2
}
