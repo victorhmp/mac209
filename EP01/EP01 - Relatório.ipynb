{
 "cells": [
  {
   "cell_type": "markdown",
   "metadata": {},
   "source": [
    "# Relatório EP01 - MAC0209"
   ]
  },
  {
   "cell_type": "markdown",
   "metadata": {
    "collapsed": true
   },
   "source": [
    "## Introdução\n",
    "<p style='text-align: justify;'>Neste primeiro EP foi realizado um estudo sobre o movimento uniforme e o movimento uniformemente acelerado.\n",
    "O estudo consiste da coleta de dados através de um experimento simulando os dois tipos de movimento, a análise dos dados obtidos e uma simulação para comparação dos dados.</p>\n",
    "<p style='text-align: justify;'>O movimento uniforme, apesar de sua simplicidade, possibilita uma série de análises físicas. Ele é definido pelo movimento de um objeto que viaja com velocidade constante cobrindo distâncias iguais em intervalos de tempo iguais. Já o movimento uniformemente acelerado consiste do movimento de um objeto com velocidade que varia de maneira constante, ou seja, que possui aceleração constante.</p>\n",
    "<p style='text-align: justify; '> Assim, com as análises dos movimentos citados é possível a criação de algoritmos que simulem os fenômenos físicos estudados. Ele permite que haja uma comparação de valores teóricos com experimentais e simulação de um movimento com distâncias maiores e de mesmo caráter daqueles que foram realizados no experimento.</p>\n",
    "<p style='text-align: justify;'>A simulação associada à realização do experimento possíbilitará o levantamento de diversas questões a serem discutidas, algumas delas: validade do experimento, aproximação de dados simulados a dados experimentais, aplicação da teoria do movimento unidimensional à realidade, influência do procedimento experimental para a coleta de dados, entre outros.</p>"
   ]
  },
  {
   "cell_type": "markdown",
   "metadata": {},
   "source": [
    "## Algoritmo\n",
    "\n",
    "\n",
    "\n",
    "\n",
    "\n",
    "\n"
   ]
  },
  {
   "cell_type": "markdown",
   "metadata": {},
   "source": [
    "## Verificação do Algoritmo"
   ]
  },
  {
   "cell_type": "markdown",
   "metadata": {},
   "source": [
    "## Dados"
   ]
  },
  {
   "cell_type": "markdown",
   "metadata": {},
   "source": [
    "### Physics ToolBox Sensor\n",
    "<p style='text-align: justify;'>Para melhor compreensão dos movimentos realizados e resultados obtidos durante o experimento, foram plotados gráficos a partir das informações coletadas com o uso do sensor Physics ToolBox Suite. Todos os gráficos com os dados de cada travessia estão localizados no diretório GraficosAceleracao, eles podem ser gerados utilizando o algoritmo plotPT.py. Os arquivos gerados pelo próprio Physics ToolBox (.csv) estão localizados no diretório PhysicsToolBoxData, com nomes intuitivos, por exemplo, MUKaique1 corresponde à primeira travessia do participante Kaique realizando o movimento uniforme com os cronômetros pareados; MUKaiqueAlternado1 corresponde à primeira travessia do participante realizando o movimento uniforme com os cronômetros intercalados.</p>\n",
    "<p>\n",
    "    <img align=\"left\" src=\"GraficosAceleracao/MULucas1.png\" width=\"450\" height=\"450\">\n",
    "    <img align=\"rigth\" src=\"GraficosAceleracao/MUKojo2.png\" width=\"450\" height=\"450\">\n",
    "</p>\n",
    "<p>\n",
    "    <img align=\"left\" src=\"GraficosAceleracao/MUKaiqueAlternado3.png\" width=\"450\" height=\"450\">\n",
    "    <img align=\"rigth\" src=\"GraficosAceleracao/MUKojoAlternado2.png\" width=\"450\" height=\"450\">\n",
    "</p>\n",
    "<p>\n",
    "    <img align=\"left\" src=\"GraficosAceleracao/MUVYurick2.png\" width=\"450\" height=\"450\">\n",
    "    <img align=\"rigth\" src=\"GraficosAceleracao/MUVKaique1.png\" width=\"450\" height=\"450\">\n",
    "</p>\n",
    "<p>\n",
    "    <img align=\"left\" src=\"GraficosAceleracao/MUVYurickAlternado.png\" width=\"450\" height=\"450\">\n",
    "    <img align=\"rigth\" src=\"GraficosAceleracao/MUVVictorAlternado.png\" width=\"450\" height=\"450\">\n",
    "</p>"
   ]
  },
  {
   "cell_type": "markdown",
   "metadata": {
    "collapsed": true
   },
   "source": [
    "## Análise"
   ]
  },
  {
   "cell_type": "markdown",
   "metadata": {
    "collapsed": true
   },
   "source": [
    "## Interpretação"
   ]
  },
  {
   "cell_type": "markdown",
   "metadata": {},
   "source": [
    "## Conclusão"
   ]
  },
  {
   "cell_type": "markdown",
   "metadata": {},
   "source": []
  },
  {
   "cell_type": "code",
   "execution_count": null,
   "metadata": {
    "collapsed": true
   },
   "outputs": [],
   "source": []
  },
  {
   "cell_type": "code",
   "execution_count": null,
   "metadata": {
    "collapsed": true
   },
   "outputs": [],
   "source": []
  },
  {
   "cell_type": "code",
   "execution_count": null,
   "metadata": {
    "collapsed": true
   },
   "outputs": [],
   "source": []
  }
 ],
 "metadata": {
  "kernelspec": {
   "display_name": "Python 3",
   "language": "python",
   "name": "python3"
  },
  "language_info": {
   "codemirror_mode": {
    "name": "ipython",
    "version": 3
   },
   "file_extension": ".py",
   "mimetype": "text/x-python",
   "name": "python",
   "nbconvert_exporter": "python",
   "pygments_lexer": "ipython3",
   "version": "3.6.3"
  }
 },
 "nbformat": 4,
 "nbformat_minor": 2
}
