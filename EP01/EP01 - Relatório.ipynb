{
 "cells": [
  {
   "cell_type": "markdown",
   "metadata": {},
   "source": [
    "# Relatório EP01 - MAC0209"
   ]
  },
  {
   "cell_type": "markdown",
   "metadata": {
    "collapsed": true
   },
   "source": [
    "## Introdução\n",
    "<p style='text-align: justify;'>Neste primeiro EP foi realizado um estudo sobre o movimento uniforme e o movimento uniformemente acelerado.\n",
    "O estudo consiste da coleta de dados através de um experimento simulando os dois tipos de movimento, a análise dos dados obtidos e uma simulação para comparação dos dados.</p>\n",
    "<p style='text-align: justify;'>O movimento uniforme, apesar de sua simplicidade, possibilita uma série de análises físicas. Ele é definido pelo movimento de um objeto que viaja com velocidade constante cobrindo distâncias iguais em intervalos de tempo iguais. Já o movimento uniformemente acelerado consiste do movimento de um objeto com velocidade que varia de maneira constante, ou seja, que possui aceleração constante.</p>\n",
    "<p style='text-align: justify; '> Assim, com as análises dos movimentos citados é possível a criação de algoritmos que simulem os fenômenos físicos estudados. Ele permite que haja uma comparação de valores teóricos com experimentais e simulação de um movimento com distâncias maiores e de mesmo caráter daqueles que foram realizados no experimento.</p>\n",
    "<p style='text-align: justify;'>A simulação associada à realização do experimento possíbilitará o levantamento de diversas questões a serem discutidas, algumas delas: validade do experimento, aproximação de dados simulados a dados experimentais, aplicação da teoria do movimento unidimensional à realidade, influência do procedimento experimental para a coleta de dados, entre outros.</p>"
   ]
  },
  {
   "cell_type": "markdown",
   "metadata": {},
   "source": [
    "## Procedimento Experimental\n",
    "<p style='text-align: justify;'>Para a realização do experimento foram utilizados os seguintes materiais: lã, trena, cronômetros, celulares, camera e giz. Inicialmente mediu-se um pedaço de 5 metros de lã para que fosse possível a marcação no chão das distâncias, sendo que houve outra marcação, esta feita a cada metro dentre os 30 metros da travessia, para que os passos de um metro pudessem ser realizados com melhor precisão. Assim, durante o experimento, havia um participante realizando as gravações, um que pudesse coordenar a travessia, um para realizar a travessia e dois para a medição dos tempos na posição dos sensores.</p>\n",
    "<p style='text-align: justify;'>Quando o movimento era uniforme, a pessoa que realizava a travessia, a fazia com base no ritmo de um metrônomo de frequência constante, assim para cada \"batida\" do metrônomo, um passo era dado. Para o movimento uniformemente variado, utilizou-se um metrônomo ascendente, ou seja, aquele que pudesse gerar \"batidas\" em um ritmo com frequências que aceleravam.</p>\n",
    "<p style='text-align: justify;'>Quando a medição era feita com os cronômetros pareados, as duas pessoas que ficavam com a captação dos tempos se deslocavam à frente da pessoa que realizava a travessia, repousando para uma medição precisa nos pontos de sensores para a medição. Para a medição com cronômetros intercalados, uma pessoa ficava à esquerda da passarela de travessia e captava na posições dos sensores de 5m, 15m e 25m, enquando que a outra pessoa à direita, coletava os valores na posição dos sensores de 10m, 20m e 30m.</p>\n",
    "<p style='text-align: justify;'>É importante ressaltar que a pessoa que realizava a travessia levava consigo um dispositivo celular executando a aplicação <i>Physics ToolBox</i> ativada 5 segundos antes do início da travessia e desativada 5 segundos após o término da travessia, quando a pessoa que o porta se encontrasse em repouso.</p>"
   ]
  },
  {
   "cell_type": "markdown",
   "metadata": {},
   "source": [
    "## Algoritmo\n",
    "\n",
    "**|FALAR SOBRE O ALGORITMO PRINCIPAL|**\n",
    "\n",
    "\n",
    "### plotPT.py\n",
    "<p style='text-align: justify;'>O <i>script</i> de plotPT.py tem como objetivo plotar, principalmente, as imagens dos arquivos csv obtidos com a utilização do <i>Physics ToolBox</i>. Assim, o programa recebe como entrada o caminho do arquivo .csv com os dados a serem plotados, o título do gráfico resultante e o nome do arquivo de imagem contendo o gráfico a ser salvo. Um exemplo de execução é: python plotPT.py PhysicsToolBoxData/MUKaique1.csv KaiqueMU KaiqueMUImage, que irá plotar o gráfico contido em PhysicsToolBoxData/MUKaique1.csv, gerando o gráfico com o título KaiqueMU e uma imagem KaiqueMUImage.png.</p>\n",
    "\n",
    "### StdAudio.java\n",
    "<p style='text-align: justify;'>O programa StdAudio.java é uma reciclagem do algoritmo de uma disciplina da instituição Princeton(https://introcs.cs.princeton.edu/java/15inout/StdAudio.java.html), utilizado para a criação do metrônomo ascendente para a realização do movimento uniformemente variado. Os dados utilizados no programa foram arbitrários, basicamente escolhidos para uma melhor adequação ao experimento.</p>\n"
   ]
  },
  {
   "cell_type": "markdown",
   "metadata": {},
   "source": [
    "## Verificação do Algoritmo"
   ]
  },
  {
   "cell_type": "markdown",
   "metadata": {},
   "source": [
    "## Dados\n",
    "\n",
    "### Dados Coletados no Experimento\n",
    "**|COLOCAR A TABELA COM OS DADOS AQUI KAIAK|**\n",
    "\n",
    "### <i>Physics ToolBox Sensor</i>\n",
    "<p style='text-align: justify;'>Para melhor compreensão dos movimentos realizados e resultados obtidos durante o experimento, foram plotados gráficos a partir das informações coletadas com o uso do sensor Physics ToolBox Suite. Todos os gráficos com os dados de cada travessia estão localizados no diretório GraficosAceleracao, eles podem ser gerados utilizando o algoritmo plotPT.py. Os arquivos gerados pelo próprio <i>Physics ToolBox</i> (.csv) estão localizados no diretório PhysicsToolBoxData, com nomes intuitivos, por exemplo, MUKaique1 corresponde à primeira travessia do participante Kaique realizando o movimento uniforme com os cronômetros pareados; MUKaiqueAlternado1 corresponde à primeira travessia do participante realizando o movimento uniforme com os cronômetros intercalados.</p>\n",
    "<p>\n",
    "    <img align=\"left\" src=\"GraficosAceleracao/MULucas1.png\" width=\"450\" height=\"450\">\n",
    "    <img align=\"rigth\" src=\"GraficosAceleracao/MUKojo2.png\" width=\"450\" height=\"450\">\n",
    "</p>\n",
    "<p>\n",
    "    <img align=\"left\" src=\"GraficosAceleracao/MUKaiqueAlternado3.png\" width=\"450\" height=\"450\">\n",
    "    <img align=\"rigth\" src=\"GraficosAceleracao/MUKojoAlternado2.png\" width=\"450\" height=\"450\">\n",
    "</p>\n",
    "<p>\n",
    "    <img align=\"left\" src=\"GraficosAceleracao/MUVYurick2.png\" width=\"450\" height=\"450\">\n",
    "    <img align=\"rigth\" src=\"GraficosAceleracao/MUVKaique1.png\" width=\"450\" height=\"450\">\n",
    "</p>\n",
    "<p>\n",
    "    <img align=\"left\" src=\"GraficosAceleracao/MUVYurickAlternado.png\" width=\"450\" height=\"450\">\n",
    "    <img align=\"rigth\" src=\"GraficosAceleracao/MUVVictorAlternado.png\" width=\"450\" height=\"450\">\n",
    "</p>"
   ]
  },
  {
   "cell_type": "markdown",
   "metadata": {
    "collapsed": true
   },
   "source": [
    "## Análise"
   ]
  },
  {
   "cell_type": "markdown",
   "metadata": {
    "collapsed": true
   },
   "source": [
    "## Interpretação"
   ]
  },
  {
   "cell_type": "markdown",
   "metadata": {},
   "source": [
    "## Conclusão"
   ]
  },
  {
   "cell_type": "markdown",
   "metadata": {},
   "source": []
  },
  {
   "cell_type": "code",
   "execution_count": null,
   "metadata": {
    "collapsed": true
   },
   "outputs": [],
   "source": []
  },
  {
   "cell_type": "code",
   "execution_count": null,
   "metadata": {
    "collapsed": true
   },
   "outputs": [],
   "source": []
  },
  {
   "cell_type": "code",
   "execution_count": null,
   "metadata": {
    "collapsed": true
   },
   "outputs": [],
   "source": []
  }
 ],
 "metadata": {
  "kernelspec": {
   "display_name": "Python 3",
   "language": "python",
   "name": "python3"
  },
  "language_info": {
   "codemirror_mode": {
    "name": "ipython",
    "version": 3
   },
   "file_extension": ".py",
   "mimetype": "text/x-python",
   "name": "python",
   "nbconvert_exporter": "python",
   "pygments_lexer": "ipython3",
   "version": "3.6.3"
  }
 },
 "nbformat": 4,
 "nbformat_minor": 2
}
