{
 "cells": [
  {
   "cell_type": "markdown",
   "metadata": {},
   "source": [
    "# Relatório EP01 - MAC0209"
   ]
  },
  {
   "cell_type": "markdown",
   "metadata": {
    "collapsed": true
   },
   "source": [
    "<p style='text-align: justify;'>Neste primeiro EP foi realizado um estudo sobre o movimento uniforme e o movimento uniformemente acelerado.\n",
    "O estudo consiste da coleta de dados através de um experimento simulando os dois tipos de movimento, a análise dos dados obtidos e uma simulação para comparação dos dados.</p>\n",
    "<p style='text-align: justify;'>O movimento uniforme é um tipo de movimento simples porém fundamental. Ele é definido pelo movimento de um objeto que viaja com velocidade constante cobrindo distâncias iguais em intervalos de tempo iguais. **|Colocar sobre metodo numérico e algoritmo do MU aqui|**<br/>\n",
    "Já o movimento uniformemente acelerado consiste do movimento de um objeto com velocidade que varia de maneira constante, ou seja, que possui aceleração constante. **|Colocar sobre metodo numérico e algoritmo do MUV aqui|**</p>\n",
    "<p style='text-align: justify;'>A simulação associada à realização do experimento possíbilitará o levantamento de diversas questões a serem discutidas, algumas delas: validade do experimento, aproximação de dados simulados a dados experimentais, aplicação da teoria do movimento unidimensional à realidade, influência do procedimento experimental para a coleta de dados, entre outros.</p>"
   ]
  },
  {
   "cell_type": "code",
   "execution_count": null,
   "metadata": {},
   "outputs": [],
   "source": []
  },
  {
   "cell_type": "code",
   "execution_count": null,
   "metadata": {},
   "outputs": [],
   "source": []
  },
  {
   "cell_type": "code",
   "execution_count": null,
   "metadata": {
    "collapsed": true
   },
   "outputs": [],
   "source": []
  }
 ],
 "metadata": {
  "kernelspec": {
   "display_name": "Python 3",
   "language": "python",
   "name": "python3"
  },
  "language_info": {
   "codemirror_mode": {
    "name": "ipython",
    "version": 3
   },
   "file_extension": ".py",
   "mimetype": "text/x-python",
   "name": "python",
   "nbconvert_exporter": "python",
   "pygments_lexer": "ipython3",
   "version": "3.6.4"
  }
 },
 "nbformat": 4,
 "nbformat_minor": 2
}
