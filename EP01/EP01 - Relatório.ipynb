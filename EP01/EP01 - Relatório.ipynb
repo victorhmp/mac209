{
 "cells": [
  {
   "cell_type": "markdown",
   "metadata": {},
   "source": [
    "# Relatório EP01 - MAC0209"
   ]
  },
  {
   "cell_type": "markdown",
   "metadata": {
    "collapsed": true
   },
   "source": [
    "## Introdução\n",
    "<p style='text-align: justify;'>Neste primeiro EP foi realizado um estudo sobre o movimento uniforme e o movimento uniformemente acelerado.\n",
    "O estudo consiste da coleta de dados através de um experimento simulando os dois tipos de movimento, a análise dos dados obtidos e uma simulação para comparação dos dados.</p>\n",
    "<p style='text-align: justify;'>O movimento uniforme, apesar de sua simplicidade, possibilita uma série de análises físicas. Ele é definido pelo movimento de um objeto que viaja com velocidade constante cobrindo distâncias iguais em intervalos de tempo iguais.<br/>\n",
    "Já o movimento uniformemente acelerado consiste do movimento de um objeto com velocidade que varia de maneira constante, ou seja, que possui aceleração constante.</p>\n",
    "<p style='text-align: justify; '> **|FALAR UM POUCO SOBRE A IDEIA DO ALGORITMO|**</p>\n",
    "<p style='text-align: justify;'>A simulação associada à realização do experimento possíbilitará o levantamento de diversas questões a serem discutidas, algumas delas: validade do experimento, aproximação de dados simulados a dados experimentais, aplicação da teoria do movimento unidimensional à realidade, influência do procedimento experimental para a coleta de dados, entre outros.</p>"
   ]
  },
  {
   "cell_type": "markdown",
   "metadata": {},
   "source": [
    "## Algoritmo\n"
   ]
  },
  {
   "cell_type": "markdown",
   "metadata": {},
   "source": [
    "## Verificação do Algoritmo"
   ]
  },
  {
   "cell_type": "markdown",
   "metadata": {},
   "source": [
    "## Dados"
   ]
  },
  {
   "cell_type": "markdown",
   "metadata": {
    "collapsed": true
   },
   "source": [
    "## Análise"
   ]
  },
  {
   "cell_type": "markdown",
   "metadata": {
    "collapsed": true
   },
   "source": [
    "## Interpretação"
   ]
  },
  {
   "cell_type": "markdown",
   "metadata": {},
   "source": [
    "## Conclusão"
   ]
  },
  {
   "cell_type": "markdown",
   "metadata": {},
   "source": []
  }
 ],
 "metadata": {
  "kernelspec": {
   "display_name": "Python 3",
   "language": "python",
   "name": "python3"
  },
  "language_info": {
   "codemirror_mode": {
    "name": "ipython",
    "version": 3
   },
   "file_extension": ".py",
   "mimetype": "text/x-python",
   "name": "python",
   "nbconvert_exporter": "python",
   "pygments_lexer": "ipython3",
   "version": "3.6.3"
  }
 },
 "nbformat": 4,
 "nbformat_minor": 2
}
