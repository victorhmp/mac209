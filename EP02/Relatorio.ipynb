{
 "cells": [
  {
   "cell_type": "markdown",
   "metadata": {},
   "source": [
    "# Relatório EP01 - MAC0209\n",
    "\n",
    "** Grupo Rajada ** <br>\n",
    "Kaique Komata ---- NUSP: 10297741      <br>\n",
    "Lucas Civile  -------- NUSP: 7083142   <br>\n",
    "Ricardo Kojo  ------- NUSP: 10295429   <br>\n",
    "Victor Hugo   -------- NUSP: 10297720  <br>\n",
    "Yurick Honda  ------ NUSP: 10258984\n",
    "\n",
    "## Introdução\n",
    "\n",
    "<p style='text-align: justify;'>Para o segundo exercício programa houve a execução e análise de três experimentos diferentes visando o estudo de movimentos bidimensionais. Assim como no primeiro exercício programa, foi feita a coleta de dados dos experimentos para uma simulação dos fenômenos físicos e possível comparação de dados teóricos com dados experimentais. <br></p>\n",
    "<p style='text-align: justify;'>A descida na rampa, apesar de um fenômeno muito presente no nosso cotidiano, é capaz de abranger diversos estudos, principalmente em relação à influência da inclinação da rampa no movimento de descida da rampa.<br></p>\n",
    "<p style='text-align: justify;'>O movimento circular uniforme possui uma base teórica que por certas vezes, não se torna tão intuitiva, gerando confusão, seja por erros de notação ou falta de conhecimentos teóricos, porém a simplicidade do movimento auxilia em seu estudo. <br></p>\n",
    "<p style='text-align: justify;'><b>FALTA OUTRO EXPERIMENTO</b><br></p>"
   ]
  },
  {
   "cell_type": "markdown",
   "metadata": {},
   "source": [
    "## Descida na rampa\n",
    "\n",
    "### Procedimento Experimental\n",
    "\n",
    "<p style='text-align: justify;'>O experimento foi realizado em uma das rampas da Biblioteca Brasiliana Guita e José Mindlin, onde foi utilizada 15 metros de extensão da mesma. A rampa foi seccionada a cada 5 metros, assim houve marcas nas posições de 5, 10 e 15 metros.<br></p>\n",
    "<p style='text-align: justify;'>O corpo que realizou a descida da rampa foi um carrinho, como aqueles de controle remoto, com um celular em cima dele, colado com fita adesiva.<br></p>\n",
    "<p style='text-align: justify;'>Assim, durante a execução do experimento, 3 pessoas ficaram posicionadas nas marcas, como os sensores, e marcaram os tempos correspondentes a cada descida na rampa.<br></p>"
   ]
  },
  {
   "cell_type": "markdown",
   "metadata": {},
   "source": [
    "### Algoritmos de análises e auxiliares"
   ]
  },
  {
   "cell_type": "markdown",
   "metadata": {},
   "source": [
    "### Dados\n",
    "\n",
    "#### Dados coletados no experimento"
   ]
  },
  {
   "cell_type": "markdown",
   "metadata": {},
   "source": []
  }
 ],
 "metadata": {
  "kernelspec": {
   "display_name": "Python 3",
   "language": "python",
   "name": "python3"
  },
  "language_info": {
   "codemirror_mode": {
    "name": "ipython",
    "version": 3
   },
   "file_extension": ".py",
   "mimetype": "text/x-python",
   "name": "python",
   "nbconvert_exporter": "python",
   "pygments_lexer": "ipython3",
   "version": "3.6.1"
  }
 },
 "nbformat": 4,
 "nbformat_minor": 2
}
