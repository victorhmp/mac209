{
 "cells": [
  {
   "cell_type": "markdown",
   "metadata": {},
   "source": [
    "# Relatório EP02 - MAC0209\n",
    "\n",
    "** Grupo Rajada ** <br>\n",
    "Kaique Komata ---- NUSP: 10297741      <br>\n",
    "Lucas Civile  -------- NUSP: 7083142   <br>\n",
    "Ricardo Kojo  ------- NUSP: 10295429   <br>\n",
    "Victor Hugo   -------- NUSP: 10297720  <br>\n",
    "Yurick Honda  ------ NUSP: 10258984\n",
    "\n",
    "## Introdução\n",
    "\n",
    "<p style='text-align: justify;'>Para o segundo exercício programa houve a execução e análise de três experimentos diferentes visando o estudo de movimentos bidimensionais. Assim como no primeiro exercício programa, foi feita a coleta de dados dos experimentos para uma simulação dos fenômenos físicos e possível comparação de dados teóricos com dados experimentais. <br></p>\n",
    "<p style='text-align: justify;'>A descida na rampa, apesar de um fenômeno muito presente no nosso cotidiano, é capaz de abranger diversos estudos, principalmente em relação à influência da inclinação da rampa no movimento de descida da rampa.<br></p>\n",
    "<p style='text-align: justify;'>O movimento circular uniforme possui uma base teórica que por certas vezes, não se torna tão intuitiva, gerando confusão, seja por erros de notação ou falta de conhecimentos teóricos, porém a simplicidade do movimento auxilia em seu estudo. <br></p>\n",
    "<p style='text-align: justify;'>O lançamento de projétil é um movimento parte vertical e parte horizontal que depende do ângulo em relação a um referencial, da força aplicada no lançamento e da força da gravidade. É um fenômeno que pode ser reproduzido facilmente mas que gera muitos estudos.<br></p>\n",
    "\n",
    "## <i>Physics ToolBox Sensor</i>\n",
    "\n",
    "<p style='text-align: justify;'>Assim como requisito para a execução do experimento e melhor análise dos dados experimentais, foi utilizada a ferramenta <i>Physics ToolBox Sensor</i>. Para cada experimento, fez-se uso do sensor que mais correspondia ao movimento descrito no experimento:<br></p>\n",
    "* Descida na rampa: acelerômetro\n",
    "* Movimento circular uniforme: giroscópio\n",
    "* Lançamento de projétil: acelerômetro"
   ]
  },
  {
   "cell_type": "markdown",
   "metadata": {},
   "source": [
    "## Descida na rampa\n",
    "\n",
    "### Procedimento experimental\n",
    "\n",
    "<p style='text-align: justify;'>O experimento foi realizado em uma das rampas da Biblioteca Brasiliana Guita e José Mindlin, onde foi utilizada 15 metros de extensão da mesma. A rampa foi seccionada a cada 5 metros, assim houve marcas nas posições de 5, 10 e 15 metros.<br></p>\n",
    "<p style='text-align: justify;'>O corpo que realizou a descida da rampa foi um carrinho, como aqueles de controle remoto, com um celular em cima dele, colado com fita adesiva.<br></p>\n",
    "<p style='text-align: justify;'>Assim, durante a execução do experimento, 3 pessoas ficaram posicionadas nas marcas, como os sensores, e marcaram os tempos correspondentes a cada descida na rampa.<br></p>"
   ]
  },
  {
   "cell_type": "markdown",
   "metadata": {},
   "source": [
    "### Algoritmos de análises e auxiliares\n",
    "\n",
    "Definindo variáveis auxiliares e importanto bibliotecas necessárias"
   ]
  },
  {
   "cell_type": "code",
   "execution_count": 5,
   "metadata": {},
   "outputs": [],
   "source": [
    "import numpy as np\n",
    "import matplotlib.pyplot as plt\n",
    "import pandas as pd\n",
    "from math import sin, radians\n",
    "\n",
    "dataset = pd.read_csv('./Experimental Data/InclinedPlane.csv')\n",
    "\n",
    "s = [0, 5, 10, 15]\n",
    "time_plot = [i for i in range(20)]\n",
    "\n",
    "G = 9.8\n",
    "theta = radians(3)\n",
    "cheat = [0]"
   ]
  },
  {
   "cell_type": "markdown",
   "metadata": {},
   "source": [
    "Funções auxiliares que de fato representam a modelagem do movimento"
   ]
  },
  {
   "cell_type": "code",
   "execution_count": 6,
   "metadata": {},
   "outputs": [],
   "source": [
    "# velocity\n",
    "def vel(ds, dt):\n",
    "    return G*sin(theta)*dt\n",
    "\n",
    "# acceleration\n",
    "def ac(theta):\n",
    "    return G*sin(theta)\n",
    "\n",
    "def sT (theta, t):\n",
    "    return (G*sin(theta)*((t^2)/2))\n",
    "\n",
    "# receive a list of strings and replace ',' by '.'\n",
    "# avoids problems related to unit differences\n",
    "def format_to_float(arr):\n",
    "    return [s.replace(',', '.') for s in arr]"
   ]
  },
  {
   "cell_type": "code",
   "execution_count": 7,
   "metadata": {},
   "outputs": [],
   "source": [
    "# calculates average velocity and acceleration, \n",
    "# print it to StdOut and plot graphs for Uniformly Accelerated Motion\n",
    "def calc_plot(dataset, coord_x, coord_y, plot_color):\n",
    "    subdataset = format_to_float(\n",
    "        dataset.iloc[coord_x, coord_y[0]:coord_y[1]].values)\n",
    "    timeline = [float(i) for i in subdataset]\n",
    "    delta_t = np.sum(timeline)\n",
    "    velocity = vel(s, delta_t)\n",
    "    acceleration = ac(theta)\n",
    "    print((\"Aceleration: %s m/s^2\") % (acceleration))\n",
    "    \n",
    "    cheat[0] = acceleration\n",
    "\n",
    "    Y = [10, 20, 30]\n",
    "    Y_2 = [5, 10, 15, 20, 25, 30]\n",
    "    X = timeline\n",
    "    for index, value in enumerate(X):\n",
    "        if (index == 0):\n",
    "            continue\n",
    "        else:\n",
    "            X[index] = X[index-1] + value\n",
    "    try:\n",
    "        plt.plot(X, Y, '.', color=plot_color)\n",
    "    except ValueError:\n",
    "        plt.plot(X, Y_2, '.', color=plot_color)\n",
    "\n",
    "    positions_plot = [sUAM(s[0], i, acceleration) for i in range(20)]\n",
    "    plt.plot(time_plot, positions_plot, color=plot_color)\n",
    "    \n",
    "def plot_vel(xlabel=\"Tempo (s)\", ylabel=\"Velocidade (m/s)\"):\n",
    "    velocity_plot = [cheat[0] * t for t in range(20)]\n",
    "    plt.plot(time_plot, velocity_plot, color='purple')\n",
    "    plt.title(\"Velocidade\")\n",
    "    plt.xlabel(xlabel)\n",
    "    plt.ylabel(ylabel)\n",
    "    plt.show()"
   ]
  },
  {
   "cell_type": "code",
   "execution_count": 8,
   "metadata": {},
   "outputs": [],
   "source": [
    "def setup_and_save_plot(title, xlabel=\"Tempo (s)\", ylabel=\"Espaço (m)\"):\n",
    "    plt.title(title)\n",
    "    plt.xlabel(xlabel)\n",
    "    plt.ylabel(ylabel)\n",
    "    plt.show()\n",
    "    # Uncomment line below to save file\n",
    "    # plt.savefig(filename)\n",
    "    plt.clf()"
   ]
  },
  {
   "cell_type": "code",
   "execution_count": 9,
   "metadata": {},
   "outputs": [
    {
     "name": "stdout",
     "output_type": "stream",
     "text": [
      "Aceleration: 0.5128923711808496 m/s^2\n"
     ]
    },
    {
     "ename": "NameError",
     "evalue": "name 'sUAM' is not defined",
     "output_type": "error",
     "traceback": [
      "\u001b[0;31m---------------------------------------------------------------------------\u001b[0m",
      "\u001b[0;31mNameError\u001b[0m                                 Traceback (most recent call last)",
      "\u001b[0;32m<ipython-input-9-0a6c0038e2cf>\u001b[0m in \u001b[0;36m<module>\u001b[0;34m()\u001b[0m\n\u001b[1;32m      1\u001b[0m \u001b[0;31m# Uniformly Accelerated Motion\u001b[0m\u001b[0;34m\u001b[0m\u001b[0;34m\u001b[0m\u001b[0m\n\u001b[1;32m      2\u001b[0m \u001b[0;31m# for index in enumerate(namesMUV):\u001b[0m\u001b[0;34m\u001b[0m\u001b[0;34m\u001b[0m\u001b[0m\n\u001b[0;32m----> 3\u001b[0;31m \u001b[0mcalc_plot\u001b[0m\u001b[0;34m(\u001b[0m\u001b[0mdataset\u001b[0m\u001b[0;34m,\u001b[0m \u001b[0;36m3\u001b[0m\u001b[0;34m,\u001b[0m \u001b[0;34m[\u001b[0m\u001b[0;36m1\u001b[0m\u001b[0;34m,\u001b[0m \u001b[0;36m4\u001b[0m\u001b[0;34m]\u001b[0m\u001b[0;34m,\u001b[0m \u001b[0;34m'blue'\u001b[0m\u001b[0;34m)\u001b[0m\u001b[0;34m\u001b[0m\u001b[0m\n\u001b[0m\u001b[1;32m      4\u001b[0m \u001b[0msetup_and_save_plot\u001b[0m\u001b[0;34m(\u001b[0m\u001b[0;34m\"Epaço\"\u001b[0m\u001b[0;34m)\u001b[0m\u001b[0;34m\u001b[0m\u001b[0m\n\u001b[1;32m      5\u001b[0m \u001b[0mplot_vel\u001b[0m\u001b[0;34m(\u001b[0m\u001b[0;34m)\u001b[0m\u001b[0;34m\u001b[0m\u001b[0m\n",
      "\u001b[0;32m<ipython-input-7-abfc9f516e14>\u001b[0m in \u001b[0;36mcalc_plot\u001b[0;34m(dataset, coord_x, coord_y, plot_color)\u001b[0m\n\u001b[1;32m     25\u001b[0m         \u001b[0mplt\u001b[0m\u001b[0;34m.\u001b[0m\u001b[0mplot\u001b[0m\u001b[0;34m(\u001b[0m\u001b[0mX\u001b[0m\u001b[0;34m,\u001b[0m \u001b[0mY_2\u001b[0m\u001b[0;34m,\u001b[0m \u001b[0;34m'.'\u001b[0m\u001b[0;34m,\u001b[0m \u001b[0mcolor\u001b[0m\u001b[0;34m=\u001b[0m\u001b[0mplot_color\u001b[0m\u001b[0;34m)\u001b[0m\u001b[0;34m\u001b[0m\u001b[0m\n\u001b[1;32m     26\u001b[0m \u001b[0;34m\u001b[0m\u001b[0m\n\u001b[0;32m---> 27\u001b[0;31m     \u001b[0mpositions_plot\u001b[0m \u001b[0;34m=\u001b[0m \u001b[0;34m[\u001b[0m\u001b[0msUAM\u001b[0m\u001b[0;34m(\u001b[0m\u001b[0ms\u001b[0m\u001b[0;34m[\u001b[0m\u001b[0;36m0\u001b[0m\u001b[0;34m]\u001b[0m\u001b[0;34m,\u001b[0m \u001b[0mi\u001b[0m\u001b[0;34m,\u001b[0m \u001b[0macceleration\u001b[0m\u001b[0;34m)\u001b[0m \u001b[0;32mfor\u001b[0m \u001b[0mi\u001b[0m \u001b[0;32min\u001b[0m \u001b[0mrange\u001b[0m\u001b[0;34m(\u001b[0m\u001b[0;36m20\u001b[0m\u001b[0;34m)\u001b[0m\u001b[0;34m]\u001b[0m\u001b[0;34m\u001b[0m\u001b[0m\n\u001b[0m\u001b[1;32m     28\u001b[0m     \u001b[0mplt\u001b[0m\u001b[0;34m.\u001b[0m\u001b[0mplot\u001b[0m\u001b[0;34m(\u001b[0m\u001b[0mtime_plot\u001b[0m\u001b[0;34m,\u001b[0m \u001b[0mpositions_plot\u001b[0m\u001b[0;34m,\u001b[0m \u001b[0mcolor\u001b[0m\u001b[0;34m=\u001b[0m\u001b[0mplot_color\u001b[0m\u001b[0;34m)\u001b[0m\u001b[0;34m\u001b[0m\u001b[0m\n\u001b[1;32m     29\u001b[0m \u001b[0;34m\u001b[0m\u001b[0m\n",
      "\u001b[0;32m<ipython-input-7-abfc9f516e14>\u001b[0m in \u001b[0;36m<listcomp>\u001b[0;34m(.0)\u001b[0m\n\u001b[1;32m     25\u001b[0m         \u001b[0mplt\u001b[0m\u001b[0;34m.\u001b[0m\u001b[0mplot\u001b[0m\u001b[0;34m(\u001b[0m\u001b[0mX\u001b[0m\u001b[0;34m,\u001b[0m \u001b[0mY_2\u001b[0m\u001b[0;34m,\u001b[0m \u001b[0;34m'.'\u001b[0m\u001b[0;34m,\u001b[0m \u001b[0mcolor\u001b[0m\u001b[0;34m=\u001b[0m\u001b[0mplot_color\u001b[0m\u001b[0;34m)\u001b[0m\u001b[0;34m\u001b[0m\u001b[0m\n\u001b[1;32m     26\u001b[0m \u001b[0;34m\u001b[0m\u001b[0m\n\u001b[0;32m---> 27\u001b[0;31m     \u001b[0mpositions_plot\u001b[0m \u001b[0;34m=\u001b[0m \u001b[0;34m[\u001b[0m\u001b[0msUAM\u001b[0m\u001b[0;34m(\u001b[0m\u001b[0ms\u001b[0m\u001b[0;34m[\u001b[0m\u001b[0;36m0\u001b[0m\u001b[0;34m]\u001b[0m\u001b[0;34m,\u001b[0m \u001b[0mi\u001b[0m\u001b[0;34m,\u001b[0m \u001b[0macceleration\u001b[0m\u001b[0;34m)\u001b[0m \u001b[0;32mfor\u001b[0m \u001b[0mi\u001b[0m \u001b[0;32min\u001b[0m \u001b[0mrange\u001b[0m\u001b[0;34m(\u001b[0m\u001b[0;36m20\u001b[0m\u001b[0;34m)\u001b[0m\u001b[0;34m]\u001b[0m\u001b[0;34m\u001b[0m\u001b[0m\n\u001b[0m\u001b[1;32m     28\u001b[0m     \u001b[0mplt\u001b[0m\u001b[0;34m.\u001b[0m\u001b[0mplot\u001b[0m\u001b[0;34m(\u001b[0m\u001b[0mtime_plot\u001b[0m\u001b[0;34m,\u001b[0m \u001b[0mpositions_plot\u001b[0m\u001b[0;34m,\u001b[0m \u001b[0mcolor\u001b[0m\u001b[0;34m=\u001b[0m\u001b[0mplot_color\u001b[0m\u001b[0;34m)\u001b[0m\u001b[0;34m\u001b[0m\u001b[0m\n\u001b[1;32m     29\u001b[0m \u001b[0;34m\u001b[0m\u001b[0m\n",
      "\u001b[0;31mNameError\u001b[0m: name 'sUAM' is not defined"
     ]
    },
    {
     "data": {
      "image/png": "[encoded data removed]",
      "text/plain": [
       "<Figure size 432x288 with 1 Axes>"
      ]
     },
     "metadata": {},
     "output_type": "display_data"
    }
   ],
   "source": [
    "# Uniformly Accelerated Motion\n",
    "# for index in enumerate(namesMUV):\n",
    "calc_plot(dataset, 3, [1, 4], 'blue')\n",
    "setup_and_save_plot(\"Epaço\")\n",
    "plot_vel()"
   ]
  },
  {
   "cell_type": "markdown",
   "metadata": {},
   "source": [
    "### Dados"
   ]
  },
  {
   "cell_type": "markdown",
   "metadata": {},
   "source": [
    "<p style='text-align: justify;'>Os dados coletados durante a execução do experimento apresentam-se como segue abaixo. As cinco descidas realizadas estão marcadas pelo número. Como foram feitas três marcações, então há as faixas de deslocamento: 0m-5m, 5m-10 e 10m-15m.<br></p>\n",
    "<p style='text-align: justify;'>Vale ressaltar, que, na tabela, os tempos são dados em segundos.<br></p>"
   ]
  },
  {
   "cell_type": "markdown",
   "metadata": {},
   "source": [
    "|                  |      |      |      | \n",
    "|------------------|------|------|------| \n",
    "|              Descida na Rampa         | \n",
    "|                  | 5m   | 10m  | 15m  | \n",
    "| Descida 1        | 4.36 | 5.98 | 7.86 | \n",
    "| Descida 2        | 4.24 | 6.13 | 7.95 | \n",
    "| Descida 3        | 4.43 | 5.97 | 7.74 | \n",
    "| Descida 4        | 4.29 | 6.22 | 8.05 | \n",
    "| Descida 5        | 4.3  | 6.32 | 7.92 | "
   ]
  },
  {
   "cell_type": "markdown",
   "metadata": {},
   "source": [
    "### Análise"
   ]
  },
  {
   "cell_type": "markdown",
   "metadata": {},
   "source": [
    "### Interpretação\n",
    "\n",
    "<p style='text-align: justify;'>Durante a descida de um corpo na rampa, há forças que podem ser divididas em duas componentes: horizontal e vertical. O grande ponto nesse tipo de movimento é a diferença de direção entre a força peso e a força normal atuando sobre o corpo, o que levará a diferenças vetoriais nas acelerações que descrevem tais forças.<br></p>\n",
    "<img align=\"center\" src=\"RelatorioImages/plano-inclinado.GIF\" width=\"450\" height=\"450\">\n",
    "<p style='text-align: justify;'>A análise feita para tal movimento é descrita pela imagem acima. Os eixos x e y não são estabelecidos como normalmente, pois para facilitar os cálculos, o eixo x é definido paralelo ao plano da rampa e o eixo y definido como perpendicular ao plano da mesma.<br></p>\n",
    "<p style='text-align: justify;'>Assim, em y, tem-se que:\n",
    "<br>\n",
    "$$F_{ry} = N - P_{y}$$\n",
    "<br>\n",
    "Como na descida da rampa não há deslocamento do corpo na direção estabelecida como eixo y. Pode-se afirmar que a força resultante do corpo em y, $F_{ry}$, é igual a zero, assim tem-se que:\n",
    "<br>\n",
    "$$0 = N - P_{y} \\Rightarrow N = P \\Rightarrow N = m.g.cos\\theta$$\n",
    "</p>\n",
    "<p style='text-align: justify;'>Da mesma forma, faz-se a análise no eixo x, pela imagem:\n",
    "<br>\n",
    "$$F_{rx} = P_{x}$$\n",
    "<br>\n",
    "Basicamente, a força resultante do corpo na direção do eixo x, $F_{rx}$, corresponde apenas à componente da força peso no eixo x. Porém, como há movimento nessa direção, então não pode-se afirmar que a força resultante na direção x é zero:\n",
    "<br>\n",
    "$$F_{rx} = P_{x} \\Rightarrow F_{rx} = P.sen\\theta \\Rightarrow F_{rx} = m.g.sen\\theta$$\n",
    "<br>\n",
    "$$m.a = m.g.sen\\theta \\Rightarrow a = g.sen\\theta$$\n",
    "Dessa forma, torna-se claro que a aceleração é constante no tempo, ou seja, sua definição independe no tempo na descida da rampa. Por meio, da aceleração encontrada acima, é possível encontrar a velocidade, bem como a posição instantânea do corpo durante o movimento:\n",
    "$$v(t) = \\int a.dt = \\int g.sen\\theta.dt = g.sen\\theta\\int 1.dt = g.sen\\theta.t + c$$\n",
    "$$x(t) = \\int g.sen\\theta.t.dt = g.sen\\theta\\int t.dt = g.sen\\theta.\\frac{t^2}{2} + c$$\n",
    "Com as equações de velocidade e posição instantânea e sabendo a aceleração, então pode-se aplicar o método de Euler e Euler-Cromer para simular o movimento a partir dos dados coletados.\n",
    "</p>"
   ]
  },
  {
   "cell_type": "markdown",
   "metadata": {},
   "source": [
    "## Movimento circular uniforme (MCU)"
   ]
  },
  {
   "cell_type": "markdown",
   "metadata": {},
   "source": [
    "### Procedimento experimental\n",
    "\n",
    "<p style='text-align: justify;'>A realização do experimento se deu próximo à Praça do Relógio. O primeiro passo foi fixar o centro da circunferência, então por meio de um pedaço de barbante de cinco metros, marcar as posições de 90, 180, 270 e 360 graus da circunferência de dez metros de diâmetro. Dessa forma, tornou-se simples estabelecer a posição de cada sensor para a medida do tempo.<br></p>\n",
    "<p style='text-align: justify;'>Assim, para cada execução do experimento, uma pessoa, realizando a função de ponto fixo, segurava uma ponta do barbante, e enquanto isso, outra pessoa caminhava pela circunferência passando pelos pontos marcados no chão, como descrito anteriormente. Assim, duas pessoas ficavam responsáveis pela coleta dos tempos, cada uma marcando todos os sensores.<br></p>"
   ]
  },
  {
   "cell_type": "markdown",
   "metadata": {},
   "source": [
    "### Algoritmos de análises e auxiliares"
   ]
  },
  {
   "cell_type": "code",
   "execution_count": 36,
   "metadata": {},
   "outputs": [],
   "source": [
    "import numpy as np\n",
    "import matplotlib.pyplot as plt\n",
    "import pandas as pd\n",
    "from math import sin, radians\n",
    "\n",
    "dataset = pd.read_csv('./Experimental Data/UniformCircularMotion.csv')\n",
    "\n",
    "phi = [radians(90), radians(180), radians(270), radians(360)]\n",
    "delta_phi = radians(360)\n",
    "time_plot = [i for i in range(20)]"
   ]
  },
  {
   "cell_type": "code",
   "execution_count": 48,
   "metadata": {},
   "outputs": [],
   "source": [
    "# velocity\n",
    "def omega(dp, dt):\n",
    "    return dp/dt\n",
    "\n",
    "# acceleration\n",
    "def ac(do, dt):\n",
    "    return do/dt\n",
    "\n",
    "# phi(t), for Uniform Motion\n",
    "def phiT(phi_0, t, av):\n",
    "    return t*av\n",
    "\n",
    "# receive a list of strings and replace ',' by '.'\n",
    "# avoids problems related to unit differences\n",
    "def format_to_float(arr):\n",
    "    return [s.replace(',', '.') for s in arr]"
   ]
  },
  {
   "cell_type": "code",
   "execution_count": 55,
   "metadata": {},
   "outputs": [],
   "source": [
    "# calculates average velocity, print it to StdOut and plot graphs for Uniform Motion\n",
    "def calc_vel_and_plot(dataset, coord_x, coord_y, plot_color):\n",
    "    subdataset = dataset.iloc[coord_x, coord_y[0]:coord_y[1]]\n",
    "    timeline = [float(i) for i in subdataset]\n",
    "    delta_t = np.sum(timeline)\n",
    "    ang_velocity = vel(delta_phi, delta_t)\n",
    "    print((\"Angular Velocity: %s rad/s\") % (ang_velocity))\n",
    "\n",
    "    Y = phi\n",
    "    X = timeline\n",
    "    \n",
    "    for index, value in enumerate(X):\n",
    "        if (index == 0):\n",
    "            continue\n",
    "        else:\n",
    "            X[index] = X[index-1] + value\n",
    "    \n",
    "    plt.plot(X, Y, '.', color=plot_color)\n",
    "\n",
    "    positions_plot = [phiT(s[0], i, ang_velocity) for i in range(20)] # s[0] comes from constants \n",
    "    plt.plot(time_plot, positions_plot, color = plot_color)"
   ]
  },
  {
   "cell_type": "code",
   "execution_count": 56,
   "metadata": {},
   "outputs": [],
   "source": [
    "def setup_and_save_plot(title, xlabel=\"Tempo (s)\", ylabel=\"Espaço (m)\"):\n",
    "    plt.title(title)\n",
    "    plt.xlabel(xlabel)\n",
    "    plt.ylabel(ylabel)\n",
    "    plt.show()\n",
    "    # Uncomment line below to save file\n",
    "    # plt.savefig(filename)\n",
    "    plt.clf()"
   ]
  },
  {
   "cell_type": "code",
   "execution_count": 57,
   "metadata": {},
   "outputs": [
    {
     "name": "stdout",
     "output_type": "stream",
     "text": [
      "Angular Velocity: 28.778390946957476 rad/s\n"
     ]
    },
    {
     "data": {
      "image/png": "[encoded data removed]",
      "text/plain": [
       "<Figure size 432x288 with 1 Axes>"
      ]
     },
     "metadata": {},
     "output_type": "display_data"
    }
   ],
   "source": [
    "calc_vel_and_plot(dataset, (2), [2, 6], 'blue')"
   ]
  },
  {
   "cell_type": "markdown",
   "metadata": {},
   "source": [
    "### Dados\n",
    "\n",
    "<p style='text-align: justify;'>Os dados coletados durante a execução do experimento apresentam-se como segue abaixo. Os tempos foram divididos pelos sensores de marcação em 90, 180, 270 e 360 graus. Cada coleta de dados foi dividida pela pessoa que realizou a caminhada.<br></p>\n",
    "<p style='text-align: justify;'>Como houve dois sensores simultâneos,então a tabela divide cada um dos sensores com os tempos em segundos.<br></p>"
   ]
  },
  {
   "cell_type": "markdown",
   "metadata": {},
   "source": [
    "|                                   |         |          |           |           |           | \n",
    "|-----------------------------------|---------|----------|-----------|-----------|-----------| \n",
    "| Movimento Circular Uniforme (MCU) |         | 90 graus | 180 graus | 270 graus | 360 graus | \n",
    "| Yurick                            | Crono 1 | 4.83     | 9.6       | 14.81     | 20.57     | \n",
    "|                                   | Crono 2 | 4.69     | 9.6       | 14.8      | 20.47     | \n",
    "| Kaique                            | Crono 1 | 6.73     | 13.22     | 19.87     | 16.29     | \n",
    "|                                   | Crono 2 | 6.96     | 13.44     | 19.67     | 26.31     | \n",
    "| Lucas                             | Crono 1 | 5.72     | 11.89     | 17.59     | 23.92     | \n",
    "|                                   | Crono 2 | 5.88     | 11.52     | 17.40     | 23.71     | \n",
    "| Kojo                              | Crono 1 | 5.84     | 11.53     | 17.49     | 23.50     | \n",
    "|                                   | Crono 2 | 5.93     | 11.70     | 17.40     | 25.42     | \n",
    "| Victor                            | Crono 1 | 6.02     | 12.00     | 18.02     | 24.24     | \n",
    "|                                   | Crono 2 | 5.75     | 12.02     | 17.88     | 24.50     | \n"
   ]
  },
  {
   "cell_type": "markdown",
   "metadata": {},
   "source": [
    "### Análise"
   ]
  },
  {
   "cell_type": "markdown",
   "metadata": {},
   "source": [
    "### Interpretação\n",
    "\n",
    "<p style='text-align: justify;'>Antes de dar início à discussão sobre esse tipo de movimento, é preciso estabelecer alguns conceitos importantes. Para isso, novamente, utiliza-se uma imagem para tornar os conceitos mais legíveis.<br></p>\n",
    "<img align=\"center\" src=\"Images/MCU-Angle.GIF\" width=\"450\" height=\"450\">\n",
    "* Espaço Angular$(\\phi)$: espaço do arco percorrido pelo corpo, partindo da origem (O).\n",
    "* Deslocamento Angular $(\\Delta \\phi)$: variação angular correspondente ao movimento do corpo, partindo da origem (O).\n",
    "* Velocidade Angular $(\\omega)$: variação angular a cada certa variação no tempo, portanto possui a mesma ideia de velocidade em movimentos unidimensionais, porém a grandeza analisado corresponde à angulação.\n",
    "* Período $(T)$: tempo utilizado para se completar uma volta inteira na circunferência.\n",
    "* Aceleração Centrípeta $(a_{cp})$: aceleração, de módulo constante, responsável pela mudança de direção do vetor velocidade. Seu vetor possui direção e sentido apontando para o centro da circunferência, sendo o responsável pela trajetória circular e uniforme (módulo constante).\n",
    "<p style='text-align: justify;'>Por conhecimentos físicos básicos, sabe-se que $a_{cp} = \\frac{v^2}{R} = \\frac{(\\frac{2.\\pi.R}{T})^2}{R} = \\frac{(2.\\pi)^2 . R}{T^2}$. Como todos os valores que compõem $a_{cp}$ são constantes, então conclui-se que a aceleração centrípeta possui valor constante. A partir dela, é possível calcular a velocidade angular e posição angular instantânea: <br></p>\n",
    "$$\\omega (t) = \\int a_{cp}.dt = \\int \\frac{(2.\\pi)^2 . R}{T^2} .dt = \\frac{(2.\\pi)^2 . R}{T^2}.\\int 1.dt = \\frac{(2.\\pi)^2 . R}{T^2}.t + c$$\n",
    "$$\\phi (t) = \\int \\frac{(2.\\pi)^2 . R}{T^2}.t.dt = \\frac{(2.\\pi)^2 . R}{T^2}.\\int t.dt = \\frac{(2.\\pi)^2 . R}{T^2}.\\frac{t^2}{2} + c$$"
   ]
  },
  {
   "cell_type": "markdown",
   "metadata": {},
   "source": [
    "## Lançamento de Projétil"
   ]
  },
  {
   "cell_type": "markdown",
   "metadata": {},
   "source": [
    "### Procedimento Experimental\n",
    "\n",
    "<p style='text-align: justify;'>A realização do experimento se deu atrás do bloco A do IME. Primeiro foi providenciado uma espécie de estojo onde o celular com o acelerômetro seria fixado para que pudesse ser arremessado com mais segurança. Foi fixado um ponto onde um integrante se posicionaria para arremessar o estojo. Com uma trena, foram medidos 5 metros da posição do primeiro integrante e marcado o local onde o segundo integrante se posicionaria para receber o estojo. <br></p>\n",
    "<p style='text-align: justify;'>Assim, para cada execução do experimento, um terceiro integrante observava o lançamento e marcava os tempos de arremesso e pouso do estojo.<br></p>"
   ]
  },
  {
   "cell_type": "markdown",
   "metadata": {},
   "source": [
    "### Algoritmos de análises e auxiliares"
   ]
  },
  {
   "cell_type": "markdown",
   "metadata": {},
   "source": [
    "### Dados\n",
    "\n",
    "<p style='text-align: justify;'>Os dados coletados durante a execução do experimento apresentam-se como segue abaixo.<br></p>\n",
    "<p style='text-align: justify;'>Como todos os tempos de arremesso são considerados como o instante 0, a tabela contém apenas os tempos de pouso do projétil em segundos.<br></p>"
   ]
  },
  {
   "cell_type": "markdown",
   "metadata": {},
   "source": [
    "|                        |                  |\n",
    "|------------------------|------------------|\n",
    "| Lançamento do projétil |  Tempo de pouso  |\n",
    "| Arremesso 1            |        1.19      | \n",
    "| Arremesso 2            |        1.07      |\n",
    "| Arremesso 3            |        1.16      | \n",
    "| Arremesso 4            |        1.04      | \n",
    "| Arremesso 5            |        1.05      | "
   ]
  },
  {
   "cell_type": "markdown",
   "metadata": {},
   "source": [
    "### Análise"
   ]
  },
  {
   "cell_type": "markdown",
   "metadata": {},
   "source": [
    "### Intepretação\n",
    "\n",
    "<p style='text-align: justify;'>Para estudar o movimento de um projétil lançado, é preciso utilizar o princípio da decomposição do movimento, considerando a resultante entre o movimento vertical <b>y</b> e o movimento horizontal <b>x</b>.<br></p>\n",
    "<img align=\"center\" src=\"Images/lancamento-projetil.GIF\" width=\"450\" height=\"450\">\n",
    "* Velocidade inicial $(\\vec{v}_0)$;\n",
    "* Velocidade vertical inicial $(\\vec{v}_{0y})$;\n",
    "* Velocidade horizontal inicial $(\\vec{v}_{0x})$;\n",
    "* Ângulo em relação ao referencial $(\\theta)$;\n",
    "* Posição inicial $(S_0)$ e posição final $(S)$;\n",
    "* Altura máxima atingida pelo objeto $(H)$;\n",
    "* Aceleração da gravidade $(g)$.\n",
    "<p style='text-align: justify;'>Por conhecimentos de física, sabemos que a velocidade inicial pode ser expressada pela soma das componentes horizontal e vertical: $\\vec{v}_0 = \\vec{v}_{0x}i + \\vec{v}_{0y}j$. Além disso, sabemos que a velocidade instântanea é dada pela soma vetorial das velocidades: $v = \\sqrt{{\\vec{v}_x}^2 + {\\vec{v}_y}^2}$.<br>\n",
    "Sabendo do ângulo inicial $\\theta$, podemos achar as componentes horizontal e vertical iniciais: $\\vec{v}_{0x} = \\vec{v}_0 . \\cos(\\theta)$ e $\\vec{v}_{0y} = \\vec{v}_0 . \\sin(\\theta)$.\n",
    "<p style='text-align: justify;'>Na direção vertical, o projétil realiza um movimento uniformemente variado com a aceleração da gravidade $a_y = -g$. Assim, a aceleração no eixo vertical pode ser integrada para se encontrar a velocidade no eixo vertical em qualquer instante $t$:<br>\n",
    "<center>$\\vec{v}_y = \\vec{v}_0 . \\sin(\\theta) - gt$</center>\n",
    "Ainda na direção vertical, podemos calcular a posição do projétil no eixo y em qualquer instante $t$:<br>\n",
    "<center>$y = \\vec{v}_0 . t . \\sin(\\theta) - \\frac{1}{2} . gt^2$</center>\n",
    "Com essas equações, é possível calcular a altura máxima atingida pelo projétil e o seu tempo de vôo:<br>\n",
    "<center>$H = \\frac{{\\vec{v}_0}^2 . \\sin^2(\\theta)}{2g}$ e $t = \\frac{2 . \\vec{v}_0 . \\sin(\\theta)}{g}$</center></p>\n",
    "<p style='text-align: justify;'>Na direção horizontal, o projétil realiza um movimento retilíneo uniforme, portanto sua aceleração $a_x = 0$. Assim, a aceleração no eixo horizontal pode ser integrada para se encontrar a velocidade no eixo horizontal em qualquer instante $t$:<br>\n",
    "<center>$\\vec{v}_x = \\vec{v}_0 . \\cos(\\theta)$</center>\n",
    "Ainda na direção horizontal, podemos calcular a posição do projétil no eixo x em qualquer instante $t$:<br>\n",
    "<center>$x = \\vec{v}_0 . t . \\cos(\\theta)$</center>\n",
    "Com essas equações, é possível calcular o alcance ou distância horizontal máximo atingido pelo projétil:<br>\n",
    "<center>$S-S_0 = d = \\frac{{\\vec{v}_0}^2 . \\sin(2\\theta)}{g}$</center></p>"
   ]
  },
  {
   "cell_type": "markdown",
   "metadata": {
    "collapsed": true
   },
   "source": [
    "## Conclusão"
   ]
  },
  {
   "cell_type": "markdown",
   "metadata": {},
   "source": [
    "## Log\n",
    "\n",
    "* Realização dos experimentos: 2 dias\n",
    "* Criação dos scripts: 3 dias\n",
    "* Elaboração do relatório: \n",
    "* Edição do vídeo: "
   ]
  },
  {
   "cell_type": "markdown",
   "metadata": {},
   "source": [
    "## Contribuição dos autores\n",
    "\n",
    "<p style='text-align: justify;'>Victor Hugo e Ricardo Kojo escreveram e implementaram os scripts para análise e desenho dos gráficos. Todos os autores participaram nos experimentos e nas coletas de dados. Lucas Civile criou e editou o vídeo dos experimentos. Kaique Komata e Yurick Honda analisaram os dados obtidos e excreveram o texto desse manuscrito. Todos os autores leram, revisaram e aprovaram esse manuscrito.</p>"
   ]
  },
  {
   "cell_type": "markdown",
   "metadata": {},
   "source": [
    "## Vídeo"
   ]
  }
 ],
 "metadata": {
  "kernelspec": {
   "display_name": "Python 3",
   "language": "python",
   "name": "python3"
  },
  "language_info": {
   "codemirror_mode": {
    "name": "ipython",
    "version": 3
   },
   "file_extension": ".py",
   "mimetype": "text/x-python",
   "name": "python",
   "nbconvert_exporter": "python",
   "pygments_lexer": "ipython3",
   "version": "3.6.5"
  }
 },
 "nbformat": 4,
 "nbformat_minor": 2
}
